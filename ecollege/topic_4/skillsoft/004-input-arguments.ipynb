{
 "cells": [
  {
   "cell_type": "code",
   "execution_count": 1,
   "metadata": {},
   "outputs": [],
   "source": [
    "def my_introduction():\n",
    "    print('Hello my name is Harry')\n",
    "    print('I live and work in Dallas')"
   ]
  },
  {
   "cell_type": "code",
   "execution_count": 2,
   "metadata": {},
   "outputs": [
    {
     "name": "stdout",
     "output_type": "stream",
     "text": [
      "Hello my name is Harry\n",
      "I live and work in Dallas\n"
     ]
    }
   ],
   "source": [
    "my_introduction()"
   ]
  },
  {
   "cell_type": "code",
   "execution_count": 3,
   "metadata": {},
   "outputs": [],
   "source": [
    "# input arguments -- allow for more customization of defined functions\n",
    "def introduction(name, city):\n",
    "    print('Hello my name is', name)\n",
    "    print('I live and work in', city)"
   ]
  },
  {
   "cell_type": "code",
   "execution_count": 4,
   "metadata": {},
   "outputs": [
    {
     "name": "stdout",
     "output_type": "stream",
     "text": [
      "Hello my name is John\n",
      "I live and work in New York\n"
     ]
    }
   ],
   "source": [
    "# test the arguments -- John, New York\n",
    "introduction('John', 'New York')"
   ]
  },
  {
   "cell_type": "code",
   "execution_count": 5,
   "metadata": {},
   "outputs": [
    {
     "name": "stdout",
     "output_type": "stream",
     "text": [
      "Hello my name is Lisa\n",
      "I live and work in Dallas\n"
     ]
    }
   ],
   "source": [
    "# test the arguments -- Lisa, Dallas\n",
    "introduction('Lisa', 'Dallas')"
   ]
  },
  {
   "cell_type": "code",
   "execution_count": 6,
   "metadata": {},
   "outputs": [
    {
     "name": "stdout",
     "output_type": "stream",
     "text": [
      "Hello my name is john\n",
      "I live and work in Dublin\n"
     ]
    }
   ],
   "source": [
    "# introduction -- John, Dublin\n",
    "introduction('john', 'Dublin')"
   ]
  },
  {
   "cell_type": "code",
   "execution_count": 7,
   "metadata": {},
   "outputs": [
    {
     "name": "stdout",
     "output_type": "stream",
     "text": [
      "Hello my name is Dublin\n",
      "I live and work in John\n"
     ]
    }
   ],
   "source": [
    "# this code will be logically incorrect because the correct order was\n",
    "# not followed\n",
    "introduction('Dublin', 'John')\n"
   ]
  },
  {
   "cell_type": "code",
   "execution_count": 8,
   "metadata": {},
   "outputs": [
    {
     "ename": "TypeError",
     "evalue": "my_introduction() takes 0 positional arguments but 1 was given",
     "output_type": "error",
     "traceback": [
      "\u001b[0;31m---------------------------------------------------------------------------\u001b[0m",
      "\u001b[0;31mTypeError\u001b[0m                                 Traceback (most recent call last)",
      "Cell \u001b[0;32mIn [8], line 1\u001b[0m\n\u001b[0;32m----> 1\u001b[0m my_introduction(\u001b[39m\"\u001b[39;49m\u001b[39mLily\u001b[39;49m\u001b[39m\"\u001b[39;49m)\n",
      "\u001b[0;31mTypeError\u001b[0m: my_introduction() takes 0 positional arguments but 1 was given"
     ]
    }
   ],
   "source": [
    "my_introduction(\"Lily\")"
   ]
  },
  {
   "cell_type": "code",
   "execution_count": null,
   "metadata": {},
   "outputs": [],
   "source": []
  }
 ],
 "metadata": {
  "kernelspec": {
   "display_name": "Python 3",
   "language": "python",
   "name": "python3"
  },
  "language_info": {
   "codemirror_mode": {
    "name": "ipython",
    "version": 3
   },
   "file_extension": ".py",
   "mimetype": "text/x-python",
   "name": "python",
   "nbconvert_exporter": "python",
   "pygments_lexer": "ipython3",
   "version": "3.11.2"
  },
  "orig_nbformat": 4,
  "vscode": {
   "interpreter": {
    "hash": "916dbcbb3f70747c44a77c7bcd40155683ae19c65e1c03b4aa3499c5328201f1"
   }
  }
 },
 "nbformat": 4,
 "nbformat_minor": 2
}
