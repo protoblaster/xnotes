{
 "cells": [
  {
   "cell_type": "code",
   "execution_count": 1,
   "metadata": {},
   "outputs": [
    {
     "name": "stdout",
     "output_type": "stream",
     "text": [
      "\n",
      "Please wait a moment while I gather a list of all available modules...\n",
      "\n"
     ]
    },
    {
     "name": "stderr",
     "output_type": "stream",
     "text": [
      "/usr/lib/python3.11/pkgutil.py:92: UserWarning: The numpy.array_api submodule is still experimental. See NEP 47.\n",
      "  __import__(info.name)\n",
      "/usr/lib/python3/dist-packages/pythran/tables.py:4530: FutureWarning: In the future `np.bool` will be defined as the corresponding NumPy scalar.\n",
      "  if not hasattr(numpy, method):\n",
      "/usr/lib/python3/dist-packages/pythran/tables.py:4563: FutureWarning: In the future `np.bytes` will be defined as the corresponding NumPy scalar.\n",
      "  obj = getattr(themodule, elem)\n",
      "/usr/lib/python3/dist-packages/_distutils_hack/__init__.py:33: UserWarning: Setuptools is replacing distutils.\n",
      "  warnings.warn(\"Setuptools is replacing distutils.\")\n",
      "/usr/lib/python3/dist-packages/quodlibet/qltk/__init__.py:20: PyGIWarning: PangoCairo was imported without specifying a version first. Use gi.require_version('PangoCairo', '1.0') before import to ensure that the right version gets loaded.\n",
      "  from gi.repository import GLib, GObject, PangoCairo\n",
      "/usr/lib/python3/dist-packages/quodlibet/qltk/download.py:15: PyGIWarning: Soup was imported without specifying a version first. Use gi.require_version('Soup', '2.4') before import to ensure that the right version gets loaded.\n",
      "  from gi.repository import Soup, GObject\n"
     ]
    },
    {
     "name": "stdout",
     "output_type": "stream",
     "text": [
      "IPython             appdirs             html5lib            pytz\n",
      "PIL                 apt                 http                queue\n",
      "__future__          apt_inst            httplib2            quodlibet\n",
      "__hello__           apt_pkg             idna                quopri\n",
      "__phello__          aptsources          imaplib             random\n",
      "_abc                argparse            imghdr              re\n",
      "_aix_support        array               imp                 readline\n",
      "_ast                ast                 importlib           reportbug\n",
      "_asyncio            asttokens           inspect             reprlib\n",
      "_bisect             asynchat            io                  requests\n",
      "_blake2             asyncio             ipaddress           resource\n",
      "_blueman            asyncore            ipykernel           rlcompleter\n",
      "_bootsubprocess     atexit              ipykernel_launcher  runpy\n",
      "_brotli             attr                isympy              sched\n",
      "_bz2                attrs               itertools           scipy\n",
      "_cffi_backend       audioop             jedi                secrets\n",
      "_codecs             backcall            json                select\n",
      "_codecs_cn          base64              jupyter             selectors\n",
      "_codecs_hk          bdb                 jupyter_client      setuptools\n",
      "_codecs_iso2022     beniget             jupyter_core        sgmllib\n",
      "_codecs_jp          binascii            keyword             shelve\n",
      "_codecs_kr          bisect              kiwisolver          shlex\n",
      "_codecs_tw          blueman             lib2to3             shutil\n",
      "_collections        brlapi              lightdm_gtk_greeter_settings signal\n",
      "_collections_abc    brotli              linecache           site\n",
      "_compat_pickle      bs4                 locale              sitecustomize\n",
      "_compression        builtins            logging             six\n",
      "_contextvars        bytecode            louis               smbc\n",
      "_crypt              bz2                 lxml                smtpd\n",
      "_csv                cProfile            lz4                 smtplib\n",
      "_ctypes             cairo               lzma                sndhdr\n",
      "_ctypes_test        calendar            mailbox             socket\n",
      "_curses             certifi             mailcap             socketserver\n",
      "_curses_panel       cgi                 marshal             soupsieve\n",
      "_datetime           cgitb               math                speechd\n",
      "_dbm                chardet             matplotlib          speechd_config\n",
      "_dbus_bindings      charset_normalizer  matplotlib_inline   spwd\n",
      "_dbus_glib_bindings chunk               mimetypes           sqlite3\n",
      "_decimal            cmath               mmap                sre_compile\n",
      "_distutils_hack     cmd                 modulefinder        sre_constants\n",
      "_distutils_system_mod code                mpl_toolkits        sre_parse\n",
      "_elementtree        codecs              mpmath              ssl\n",
      "_functools          codeop              multiprocessing     stack_data\n",
      "_hashlib            collections         musicbrainzngs      stat\n",
      "_heapq              colorsys            mutagen             statistics\n",
      "_imp                compileall          nest_asyncio        string\n",
      "_io                 concurrent          netrc               stringprep\n",
      "_json               configparser        nis                 struct\n",
      "_locale             contextlib          nntplib             subprocess\n",
      "_lsprof             contextvars         ntpath              sunau\n",
      "_lzma               contourpy           nturl2path          sympy\n",
      "_markupbase         copy                numbers             symtable\n",
      "_md5                copyreg             numpy               sys\n",
      "_multibytecodec     coverage            olefile             sysconfig\n",
      "_multiprocessing    crypt               omp                 syslog\n",
      "_opcode             csv                 opcode              tabnanny\n",
      "_operator           ctypes              operator            tarfile\n",
      "_osx_support        cups                optparse            telnetlib\n",
      "_pickle             cupshelpers         orca                tempfile\n",
      "_posixshmem         curl                os                  termios\n",
      "_posixsubprocess    curses              ossaudiodev         test\n",
      "_py_abc             cycler              packaging           textwrap\n",
      "_pydecimal          dataclasses         parso               this\n",
      "_pydev_bundle       datetime            pathlib             threading\n",
      "_pydev_runfiles     dateutil            pdb                 time\n",
      "_pydevd_bundle      dbm                 pexpect             timeit\n",
      "_pydevd_frame_eval  dbus                pickle              tkinter\n",
      "_pyio               deb822              pickleshare         token\n",
      "_queue              debconf             pickletools         tokenize\n",
      "_random             debian              pip                 tomllib\n",
      "_sha1               debian_bundle       pipes               tornado\n",
      "_sha256             debianbts           pkg_resources       trace\n",
      "_sha3               debugpy             pkgutil             traceback\n",
      "_sha512             decimal             platform            tracemalloc\n",
      "_signal             decorator           plistlib            traitlets\n",
      "_sitebuiltins       difflib             ply                 tty\n",
      "_smbc               dis                 poplib              turtle\n",
      "_socket             distutils           posix               types\n",
      "_sqlite3            doctest             posixpath           typing\n",
      "_sre                email               pprint              ufoLib2\n",
      "_ssl                encodings           profile             unicodedata\n",
      "_stat               entrypoints         prompt_toolkit      unittest\n",
      "_statistics         enum                pstats              urllib\n",
      "_string             errno               psutil              urllib3\n",
      "_strptime           executing           pty                 uu\n",
      "_struct             faulthandler        ptyprocess          uuid\n",
      "_symtable           fcntl               pure_eval           venv\n",
      "_sysconfigdata__linux_x86_64-linux-gnu feedparser          pwd                 warnings\n",
      "_sysconfigdata__x86_64-linux-gnu filecmp             py                  wave\n",
      "_testbuffer         fileinput           py_compile          wcwidth\n",
      "_testcapi           fnmatch             pyatspi             weakref\n",
      "_testclinic         fontTools           pyclbr              webbrowser\n",
      "_testimportmultiple fractions           pycurl              webencodings\n",
      "_testinternalcapi   fs                  pydev_app_engine_debug_startup wheel\n",
      "_testmultiphase     ftplib              pydev_ipython       wsgiref\n",
      "_thread             functools           pydev_run_in_console xdg\n",
      "_threading_local    gast                pydevconsole        xdrlib\n",
      "_tkinter            gc                  pydevd              xml\n",
      "_tokenize           genericpath         pydevd_file_utils   xmlrpc\n",
      "_tracemalloc        getopt              pydevd_plugins      xxlimited\n",
      "_typing             getpass             pydevd_tracing      xxlimited_35\n",
      "_uuid               gettext             pydoc               xxsubtype\n",
      "_warnings           gi                  pydoc_data          zipapp\n",
      "_weakref            glob                pyexpat             zipfile\n",
      "_weakrefset         graphlib            pygments            zipimport\n",
      "_xxsubinterpreters  grp                 pygtkcompat         zlib\n",
      "_xxtestfuzz         gzip                pyinotify           zmq\n",
      "_zoneinfo           hashlib             pylab               zoneinfo\n",
      "abc                 heapq               pyparsing           \n",
      "aifc                hmac                pysimplesoap        \n",
      "antigravity         html                pythran             \n",
      "\n",
      "Enter any module name to get more help.  Or, type \"modules spam\" to search\n",
      "for modules whose name or summary contain the string \"spam\".\n",
      "\n"
     ]
    },
    {
     "name": "stderr",
     "output_type": "stream",
     "text": [
      "/usr/lib/python3.11/pkgutil.py:107: VisibleDeprecationWarning: zmq.eventloop.minitornado is deprecated in pyzmq 14.0 and will be removed.\n",
      "    Install tornado itself to use zmq with the tornado IOLoop.\n",
      "    \n",
      "  yield from walk_packages(path, info.name+'.', onerror)\n"
     ]
    }
   ],
   "source": [
    "help(\"modules\")"
   ]
  },
  {
   "cell_type": "code",
   "execution_count": 2,
   "metadata": {},
   "outputs": [],
   "source": [
    "import math"
   ]
  },
  {
   "cell_type": "code",
   "execution_count": 3,
   "metadata": {},
   "outputs": [
    {
     "name": "stdout",
     "output_type": "stream",
     "text": [
      "Pi: 3.141592653589793\n"
     ]
    }
   ],
   "source": [
    "print(\"Pi:\", math.pi)"
   ]
  },
  {
   "cell_type": "code",
   "execution_count": 4,
   "metadata": {},
   "outputs": [
    {
     "name": "stdout",
     "output_type": "stream",
     "text": [
      "3\n"
     ]
    }
   ],
   "source": [
    "print(math.ceil(2.1))"
   ]
  },
  {
   "cell_type": "code",
   "execution_count": 5,
   "metadata": {},
   "outputs": [
    {
     "name": "stdout",
     "output_type": "stream",
     "text": [
      "8\n"
     ]
    }
   ],
   "source": [
    "print(math.floor(8.1))"
   ]
  },
  {
   "cell_type": "code",
   "execution_count": 7,
   "metadata": {},
   "outputs": [
    {
     "name": "stdout",
     "output_type": "stream",
     "text": [
      "16.0\n"
     ]
    }
   ],
   "source": [
    "print(math.pow(4, 2))"
   ]
  },
  {
   "cell_type": "code",
   "execution_count": 8,
   "metadata": {},
   "outputs": [
    {
     "name": "stdout",
     "output_type": "stream",
     "text": [
      "4.898979485566356\n"
     ]
    }
   ],
   "source": [
    "print(math.sqrt(24))"
   ]
  },
  {
   "cell_type": "code",
   "execution_count": 9,
   "metadata": {},
   "outputs": [
    {
     "name": "stdout",
     "output_type": "stream",
     "text": [
      "720\n"
     ]
    }
   ],
   "source": [
    "print(math.factorial(6))"
   ]
  },
  {
   "cell_type": "code",
   "execution_count": 10,
   "metadata": {},
   "outputs": [],
   "source": [
    "# the 'os' module allows you to interact with your os\n",
    "import os"
   ]
  },
  {
   "cell_type": "code",
   "execution_count": 11,
   "metadata": {},
   "outputs": [
    {
     "data": {
      "text/plain": [
       "'/home/xtc/ecollege/topic_4/skillsoft/gaining-a-deeper-understanding-of-functions.ipynb'"
      ]
     },
     "execution_count": 11,
     "metadata": {},
     "output_type": "execute_result"
    }
   ],
   "source": [
    "# this prints the absolute path to the file you are working on\n",
    "os.getcwd()"
   ]
  },
  {
   "cell_type": "code",
   "execution_count": 12,
   "metadata": {},
   "outputs": [
    {
     "data": {
      "text/plain": [
       "environ{'CHROME_DESKTOP': 'code-url-handler.desktop',\n",
       "        'DBUS_SESSION_BUS_ADDRESS': 'unix:path=/run/user/1000/bus',\n",
       "        'DESKTOP_SESSION': 'xfce',\n",
       "        'DISPLAY': ':0.0',\n",
       "        'GDK_BACKEND': 'x11',\n",
       "        'GDMSESSION': 'xfce',\n",
       "        'GTK_MODULES': 'gail:atk-bridge',\n",
       "        'HOME': '/home/xtc',\n",
       "        'LANG': 'en_GB.UTF-8',\n",
       "        'LANGUAGE': 'en_GB:en',\n",
       "        'LESS': '-R',\n",
       "        'LOGNAME': 'xtc',\n",
       "        'LSCOLORS': 'Gxfxcxdxbxegedabagacad',\n",
       "        'OLDPWD': '/home/xtc',\n",
       "        'ORIGINAL_XDG_CURRENT_DESKTOP': 'XFCE',\n",
       "        'PAGER': 'cat',\n",
       "        'PANEL_GDK_CORE_DEVICE_EVENTS': '0',\n",
       "        'PATH': '/bin:/usr/local/bin:/usr/bin:/bin:/usr/local/games:/usr/games',\n",
       "        'PWD': '/home/xtc',\n",
       "        'QT_ACCESSIBILITY': '1',\n",
       "        'SESSION_MANAGER': 'local/debian:@/tmp/.ICE-unix/889,unix/debian:/tmp/.ICE-unix/889',\n",
       "        'SHELL': '/usr/bin/zsh',\n",
       "        'SHLVL': '0',\n",
       "        'SSH_AGENT_PID': '928',\n",
       "        'SSH_AUTH_SOCK': '/tmp/ssh-XXXXXXkiyiGj/agent.889',\n",
       "        'USER': 'xtc',\n",
       "        'VIRTUAL_ENV_DISABLE_PROMPT': '1',\n",
       "        'VSCODE_AMD_ENTRYPOINT': 'vs/workbench/api/node/extensionHostProcess',\n",
       "        'VSCODE_CODE_CACHE_PATH': '/home/xtc/.config/Code/CachedData/441438abd1ac652551dbe4d408dfcec8a499b8bf',\n",
       "        'VSCODE_CWD': '/home/xtc',\n",
       "        'VSCODE_HANDLES_UNCAUGHT_ERRORS': 'true',\n",
       "        'VSCODE_IPC_HOOK': '/run/user/1000/vscode-54ac5792-1.75.1-main.sock',\n",
       "        'VSCODE_NLS_CONFIG': '{\"locale\":\"en-gb\",\"availableLanguages\":{},\"_languagePackSupport\":true}',\n",
       "        'VSCODE_PID': '2244',\n",
       "        'XAUTHORITY': '/home/xtc/.Xauthority',\n",
       "        'XDG_CONFIG_DIRS': '/etc/xdg',\n",
       "        'XDG_CURRENT_DESKTOP': 'XFCE',\n",
       "        'XDG_DATA_DIRS': '/usr/share/xfce4:/usr/local/share/:/usr/share/:/usr/share',\n",
       "        'XDG_GREETER_DATA_DIR': '/var/lib/lightdm/data/xtc',\n",
       "        'XDG_MENU_PREFIX': 'xfce-',\n",
       "        'XDG_RUNTIME_DIR': '/run/user/1000',\n",
       "        'XDG_SEAT': 'seat0',\n",
       "        'XDG_SEAT_PATH': '/org/freedesktop/DisplayManager/Seat0',\n",
       "        'XDG_SESSION_CLASS': 'user',\n",
       "        'XDG_SESSION_DESKTOP': 'xfce',\n",
       "        'XDG_SESSION_ID': '2',\n",
       "        'XDG_SESSION_PATH': '/org/freedesktop/DisplayManager/Session0',\n",
       "        'XDG_SESSION_TYPE': 'x11',\n",
       "        'XDG_VTNR': '7',\n",
       "        'ZSH': '/home/xtc/.oh-my-zsh',\n",
       "        '_': '/usr/share/code/code',\n",
       "        'ELECTRON_RUN_AS_NODE': '1',\n",
       "        'PYDEVD_IPYTHON_COMPATIBLE_DEBUGGING': '1',\n",
       "        'PYTHONUNBUFFERED': '1',\n",
       "        'PYTHONIOENCODING': 'utf-8',\n",
       "        'PYDEVD_USE_FRAME_EVAL': 'NO',\n",
       "        'TERM': 'xterm-color',\n",
       "        'CLICOLOR': '1',\n",
       "        'GIT_PAGER': 'cat',\n",
       "        'MPLBACKEND': 'module://matplotlib_inline.backend_inline'}"
      ]
     },
     "execution_count": 12,
     "metadata": {},
     "output_type": "execute_result"
    }
   ],
   "source": [
    "os.environ"
   ]
  },
  {
   "cell_type": "markdown",
   "metadata": {},
   "source": []
  },
  {
   "cell_type": "code",
   "execution_count": 14,
   "metadata": {},
   "outputs": [
    {
     "data": {
      "text/plain": [
       "'xtc'"
      ]
     },
     "execution_count": 14,
     "metadata": {},
     "output_type": "execute_result"
    }
   ],
   "source": [
    "user = os.environ['USER']\n",
    "user"
   ]
  },
  {
   "cell_type": "code",
   "execution_count": 16,
   "metadata": {},
   "outputs": [
    {
     "name": "stdout",
     "output_type": "stream",
     "text": [
      "/bin:/usr/local/bin:/usr/bin:/bin:/usr/local/games:/usr/games\n"
     ]
    }
   ],
   "source": [
    "path = os.environ['PATH']\n",
    "print(path)"
   ]
  },
  {
   "cell_type": "code",
   "execution_count": 20,
   "metadata": {},
   "outputs": [
    {
     "data": {
      "text/plain": [
       "['002-arg-passing-by-value.ipynb',\n",
       " '004-math-and-os-modules.ipynb',\n",
       " '003-arg-passing-by-reference.ipynb',\n",
       " '001-global-and-local-variables.ipynb']"
      ]
     },
     "execution_count": 20,
     "metadata": {},
     "output_type": "execute_result"
    }
   ],
   "source": [
    "os.listdir()"
   ]
  },
  {
   "cell_type": "code",
   "execution_count": null,
   "metadata": {},
   "outputs": [],
   "source": []
  }
 ],
 "metadata": {
  "kernelspec": {
   "display_name": "Python 3",
   "language": "python",
   "name": "python3"
  },
  "language_info": {
   "codemirror_mode": {
    "name": "ipython",
    "version": 3
   },
   "file_extension": ".py",
   "mimetype": "text/x-python",
   "name": "python",
   "nbconvert_exporter": "python",
   "pygments_lexer": "ipython3",
   "version": "3.11.2"
  },
  "orig_nbformat": 4,
  "vscode": {
   "interpreter": {
    "hash": "916dbcbb3f70747c44a77c7bcd40155683ae19c65e1c03b4aa3499c5328201f1"
   }
  }
 },
 "nbformat": 4,
 "nbformat_minor": 2
}
