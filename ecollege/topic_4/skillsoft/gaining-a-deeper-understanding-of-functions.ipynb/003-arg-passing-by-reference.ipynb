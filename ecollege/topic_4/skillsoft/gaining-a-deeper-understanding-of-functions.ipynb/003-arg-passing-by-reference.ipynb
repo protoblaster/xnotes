{
 "cells": [
  {
   "cell_type": "code",
   "execution_count": 1,
   "metadata": {},
   "outputs": [],
   "source": [
    "fruits_list = [\"Apple\", \"Banana\", \"Grapes\", \"Mango\"]"
   ]
  },
  {
   "cell_type": "code",
   "execution_count": 2,
   "metadata": {},
   "outputs": [
    {
     "name": "stdout",
     "output_type": "stream",
     "text": [
      "Inside the function: ['Kiwi', 'Banana', 'Grapes', 'Mango']\n",
      "\n",
      "Outside the function: ['Kiwi', 'Banana', 'Grapes', 'Mango']\n"
     ]
    }
   ],
   "source": [
    "# the following code shows that changing an element of a list is possible\n",
    "# even you are inside a function when you do it\n",
    "\n",
    "# the change was reflected in the original fruits_list because we \n",
    "# changed the value at index 0 and didn't redefine the list\n",
    "def change_list(fruits_list):\n",
    "\n",
    "    fruits_list[0] = \"Kiwi\"\n",
    "\n",
    "    print(\"Inside the function:\", fruits_list)\n",
    "\n",
    "change_list(fruits_list)\n",
    "print()\n",
    "print(\"Outside the function:\", fruits_list)"
   ]
  },
  {
   "cell_type": "code",
   "execution_count": 3,
   "metadata": {},
   "outputs": [
    {
     "name": "stdout",
     "output_type": "stream",
     "text": [
      "Inside the function: ['Kiwi', 'Grape']\n"
     ]
    }
   ],
   "source": [
    "fruits_list = [\"Apple\", \"Grape\"]\n",
    "change_list(fruits_list)"
   ]
  },
  {
   "cell_type": "code",
   "execution_count": 4,
   "metadata": {},
   "outputs": [
    {
     "data": {
      "text/plain": [
       "['Kiwi', 'Grape']"
      ]
     },
     "execution_count": 4,
     "metadata": {},
     "output_type": "execute_result"
    }
   ],
   "source": [
    "fruits_list"
   ]
  },
  {
   "cell_type": "code",
   "execution_count": 1,
   "metadata": {},
   "outputs": [
    {
     "name": "stdout",
     "output_type": "stream",
     "text": [
      "Inside the function: ['Apple', 'Banana', 'Grapes', 'Mango', 'Kiwi']\n",
      "\n",
      "Outside the function: ['Apple', 'Banana', 'Grapes', 'Mango', 'Kiwi']\n"
     ]
    }
   ],
   "source": [
    "fruits_list = [\"Apple\", \"Banana\", \"Grapes\", \"Mango\"]\n",
    "\n",
    "# this function appends \"Kiwi\" onto the fruits_list\n",
    "# fruits_list has \"Kiwi\" appended\n",
    "\n",
    "def change_list(fruits_list):\n",
    "\n",
    "    fruits_list.append(\"Kiwi\")\n",
    "\n",
    "    print(\"Inside the function:\", fruits_list)\n",
    "\n",
    "change_list(fruits_list)\n",
    "print()\n",
    "print(\"Outside the function:\", fruits_list)"
   ]
  },
  {
   "cell_type": "code",
   "execution_count": 3,
   "metadata": {},
   "outputs": [
    {
     "name": "stdout",
     "output_type": "stream",
     "text": [
      "Inside the function: ['Grapes', 'Mango', 'Bananas']\n",
      "\n",
      "Outside the function ['Grapes', 'Mango', 'Bananas']\n"
     ]
    }
   ],
   "source": [
    "fruits_list = [\"Apple\", \"Grapes\", \"Mango\", \"Bananas\"]\n",
    "\n",
    "def change_list(fruits_list):\n",
    "    fruits_list.remove(\"Apple\")\n",
    "\n",
    "    print(\"Inside the function:\", fruits_list)\n",
    "\n",
    "change_list(fruits_list)\n",
    "print()\n",
    "print(\"Outside the function\", fruits_list)"
   ]
  },
  {
   "cell_type": "code",
   "execution_count": 6,
   "metadata": {},
   "outputs": [],
   "source": [
    "fruits_list = [\"Apple\", \"Grapes\", \"Mango\", \"Bananas\"]\n",
    "\n",
    "def sort_items_and_remove_last(my_list):\n",
    "    my_list.sort()\n",
    "    my_list.pop()                       # removes the last element\n",
    "\n",
    "    print(\"Inside the function:\", fruits_list)"
   ]
  },
  {
   "cell_type": "code",
   "execution_count": 7,
   "metadata": {},
   "outputs": [
    {
     "name": "stdout",
     "output_type": "stream",
     "text": [
      "Inside the function: ['Apple', 'Bananas', 'Grapes']\n"
     ]
    }
   ],
   "source": [
    "sort_items_and_remove_last(fruits_list)"
   ]
  },
  {
   "cell_type": "code",
   "execution_count": 8,
   "metadata": {},
   "outputs": [
    {
     "data": {
      "text/plain": [
       "['Apple', 'Bananas', 'Grapes']"
      ]
     },
     "execution_count": 8,
     "metadata": {},
     "output_type": "execute_result"
    }
   ],
   "source": [
    "fruits_list"
   ]
  },
  {
   "cell_type": "code",
   "execution_count": 9,
   "metadata": {},
   "outputs": [],
   "source": [
    "car_speeds_dictionary = {\n",
    "    \"Camry\": 120,\n",
    "    \"Accord\": 130,\n",
    "    \"Cayenne\": 250,\n",
    "    \"Mini Cooper\": 100\n",
    "}"
   ]
  },
  {
   "cell_type": "code",
   "execution_count": 10,
   "metadata": {},
   "outputs": [
    {
     "name": "stdout",
     "output_type": "stream",
     "text": [
      "Inside the function: {'Camry': 120, 'Accord': 130, 'Cayenne': 250, 'Mini Cooper': 100, 'Mustang': 200}\n",
      "\n",
      "Outside the dictionary: {'Camry': 120, 'Accord': 130, 'Cayenne': 250, 'Mini Cooper': 100, 'Mustang': 200}\n"
     ]
    }
   ],
   "source": [
    "# the dictionary will change because it has been modified at it's stored memory location\n",
    "def change_dictionary(car_speeds_dictionary):\n",
    "    car_speeds_dictionary[\"Mustang\"] = 200      # add a new key:value pair\n",
    "\n",
    "    print(\"Inside the function:\", car_speeds_dictionary)\n",
    "\n",
    "change_dictionary(car_speeds_dictionary)\n",
    "print()\n",
    "print(\"Outside the dictionary:\", car_speeds_dictionary)"
   ]
  },
  {
   "attachments": {},
   "cell_type": "markdown",
   "metadata": {},
   "source": [
    "- If you change the dictionary within the function, the original dictionary isn't affected\n",
    "- If you change an element within the dictionary, then it's change is global"
   ]
  },
  {
   "cell_type": "code",
   "execution_count": 11,
   "metadata": {},
   "outputs": [
    {
     "name": "stdout",
     "output_type": "stream",
     "text": [
      "Inside the function: {'Camry': 150, 'Accord': 130, 'Cayenne': 250, 'Mini Cooper': 100, 'Mustang': 200}\n",
      "\n",
      "Outside the dictionary: {'Camry': 150, 'Accord': 130, 'Cayenne': 250, 'Mini Cooper': 100, 'Mustang': 200}\n"
     ]
    }
   ],
   "source": [
    "def change_dictionary(some_dictionary):\n",
    "    some_dictionary[\"Camry\"] = 150\n",
    "    print(\"Inside the function:\", some_dictionary)\n",
    "\n",
    "change_dictionary(car_speeds_dictionary)\n",
    "print()\n",
    "print(\"Outside the dictionary:\", car_speeds_dictionary)"
   ]
  },
  {
   "cell_type": "code",
   "execution_count": 15,
   "metadata": {},
   "outputs": [
    {
     "ename": "KeyError",
     "evalue": "'Camr'",
     "output_type": "error",
     "traceback": [
      "\u001b[0;31m---------------------------------------------------------------------------\u001b[0m",
      "\u001b[0;31mKeyError\u001b[0m                                  Traceback (most recent call last)",
      "Cell \u001b[0;32mIn [15], line 5\u001b[0m\n\u001b[1;32m      2\u001b[0m     \u001b[39mdel\u001b[39;00m some_dictionary[\u001b[39m\"\u001b[39m\u001b[39mCamr\u001b[39m\u001b[39m\"\u001b[39m]\n\u001b[1;32m      3\u001b[0m     \u001b[39mprint\u001b[39m(\u001b[39m\"\u001b[39m\u001b[39mInside the function\u001b[39m\u001b[39m\"\u001b[39m, car_speeds_dictionary)\n\u001b[0;32m----> 5\u001b[0m change_dictionary(car_speeds_dictionary)\n\u001b[1;32m      6\u001b[0m \u001b[39mprint\u001b[39m()\n\u001b[1;32m      7\u001b[0m \u001b[39mprint\u001b[39m(\u001b[39m\"\u001b[39m\u001b[39mOutside the function:\u001b[39m\u001b[39m\"\u001b[39m, car_speeds_dictionary)\n",
      "Cell \u001b[0;32mIn [15], line 2\u001b[0m, in \u001b[0;36mchange_dictionary\u001b[0;34m(some_dictionary)\u001b[0m\n\u001b[1;32m      1\u001b[0m \u001b[39mdef\u001b[39;00m \u001b[39mchange_dictionary\u001b[39m(some_dictionary):\n\u001b[0;32m----> 2\u001b[0m     \u001b[39mdel\u001b[39;00m some_dictionary[\u001b[39m\"\u001b[39;49m\u001b[39mCamr\u001b[39;49m\u001b[39m\"\u001b[39;49m]\n\u001b[1;32m      3\u001b[0m     \u001b[39mprint\u001b[39m(\u001b[39m\"\u001b[39m\u001b[39mInside the function\u001b[39m\u001b[39m\"\u001b[39m, car_speeds_dictionary)\n",
      "\u001b[0;31mKeyError\u001b[0m: 'Camr'"
     ]
    }
   ],
   "source": [
    "def change_dictionary(some_dictionary):\n",
    "    del some_dictionary[\"Camr\"]\n",
    "    print(\"Inside the function\",)\n",
    "\n",
    "change_dictionary(car_speeds_dictionary)\n",
    "print()\n",
    "print(\"Outside the function:\", car_speeds_dictionary)"
   ]
  },
  {
   "attachments": {},
   "cell_type": "markdown",
   "metadata": {},
   "source": [
    "# The above error should not have happened!!\n",
    "- The result should have been that Camry was removed from the dictionary"
   ]
  },
  {
   "cell_type": "markdown",
   "metadata": {},
   "source": []
  }
 ],
 "metadata": {
  "kernelspec": {
   "display_name": "Python 3",
   "language": "python",
   "name": "python3"
  },
  "language_info": {
   "codemirror_mode": {
    "name": "ipython",
    "version": 3
   },
   "file_extension": ".py",
   "mimetype": "text/x-python",
   "name": "python",
   "nbconvert_exporter": "python",
   "pygments_lexer": "ipython3",
   "version": "3.11.2"
  },
  "orig_nbformat": 4,
  "vscode": {
   "interpreter": {
    "hash": "916dbcbb3f70747c44a77c7bcd40155683ae19c65e1c03b4aa3499c5328201f1"
   }
  }
 },
 "nbformat": 4,
 "nbformat_minor": 2
}
