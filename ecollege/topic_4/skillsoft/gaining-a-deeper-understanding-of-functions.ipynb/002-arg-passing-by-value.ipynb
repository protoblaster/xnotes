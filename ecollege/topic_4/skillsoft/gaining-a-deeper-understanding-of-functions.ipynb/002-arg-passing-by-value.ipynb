{
 "cells": [
  {
   "cell_type": "code",
   "execution_count": 2,
   "metadata": {},
   "outputs": [],
   "source": [
    "salary = 1000\n",
    "expenses = 200\n",
    "\n",
    "name = \"James\"\n",
    "interest_rate = 0.04"
   ]
  },
  {
   "cell_type": "code",
   "execution_count": 2,
   "metadata": {},
   "outputs": [],
   "source": [
    "# this function uses global variables\n",
    "# if variables of the same name exist in the function, those take\n",
    "# precedence\n",
    "def print_savings_details():\n",
    "    print(\"Name on account:\", name)\n",
    "    \n",
    "    savings = salary - expenses\n",
    "    print(\"Savings:\", savings)\n",
    "\n",
    "    print(\"Interest rate:\", interest_rate)"
   ]
  },
  {
   "cell_type": "code",
   "execution_count": 3,
   "metadata": {},
   "outputs": [
    {
     "name": "stdout",
     "output_type": "stream",
     "text": [
      "Name on account: James\n",
      "Savings: 800\n",
      "Interest rate: 0.04\n"
     ]
    }
   ],
   "source": [
    "print_savings_details()"
   ]
  },
  {
   "cell_type": "code",
   "execution_count": 4,
   "metadata": {},
   "outputs": [],
   "source": [
    "def print_savings_details(name, salary, expenses, interest_rate):\n",
    "    print(\"Name on account:\", name)\n",
    "\n",
    "    savings = salary - expenses\n",
    "    print(\"Savings:\", savings)\n",
    "\n",
    "    print(\"Interest Rate:\", interest_rate)"
   ]
  },
  {
   "cell_type": "code",
   "execution_count": 5,
   "metadata": {},
   "outputs": [
    {
     "name": "stdout",
     "output_type": "stream",
     "text": [
      "Name on account: John\n",
      "Savings: 800\n",
      "Interest Rate: 0.04\n"
     ]
    }
   ],
   "source": [
    "print_savings_details('John', 1000, 200, 0.04)"
   ]
  },
  {
   "cell_type": "code",
   "execution_count": 6,
   "metadata": {},
   "outputs": [
    {
     "name": "stdout",
     "output_type": "stream",
     "text": [
      "Name on account: Julie\n",
      "Savings: 8000\n",
      "Interest Rate: 0.02\n"
     ]
    }
   ],
   "source": [
    "print_savings_details(\"Julie\", 10000, 2000, 0.02)"
   ]
  },
  {
   "cell_type": "code",
   "execution_count": 7,
   "metadata": {},
   "outputs": [],
   "source": [
    "def print_savings_details(name, salary, expenses, interest_rate):\n",
    "    print(\"Name on account:\", name)\n",
    "\n",
    "    expenses = expenses + 100\n",
    "    \n",
    "    savings = salary - expenses\n",
    "    print(\"Savings:\", savings)\n",
    "\n",
    "    print(\"Interest Rate:\", interest_rate)"
   ]
  },
  {
   "cell_type": "code",
   "execution_count": 8,
   "metadata": {},
   "outputs": [
    {
     "name": "stdout",
     "output_type": "stream",
     "text": [
      "Name on account: Mike\n",
      "Savings: 15900\n",
      "Interest Rate: 0.01\n"
     ]
    }
   ],
   "source": [
    "print_savings_details(\"Mike\", 20000, 4000, 0.01)"
   ]
  },
  {
   "cell_type": "code",
   "execution_count": 3,
   "metadata": {},
   "outputs": [
    {
     "data": {
      "text/plain": [
       "('James', 1000, 200, 0.04)"
      ]
     },
     "execution_count": 3,
     "metadata": {},
     "output_type": "execute_result"
    }
   ],
   "source": [
    "name, salary, expenses, interest_rate"
   ]
  },
  {
   "cell_type": "code",
   "execution_count": 4,
   "metadata": {},
   "outputs": [],
   "source": [
    "def print_savings_details(name, salary, expenses, interest_rate):\n",
    "\n",
    "    name = \"Harry\"\n",
    "    print('Name on account:', name)\n",
    "\n",
    "    salary = salary * 2\n",
    "    expenses = expenses + 100\n",
    "\n",
    "    savings = salary - expenses\n",
    "    print(\"Savings:\", savings)\n",
    "\n",
    "    interest_rate = 0.09\n",
    "    print('Interest Rate:', interest_rate)"
   ]
  },
  {
   "cell_type": "code",
   "execution_count": 5,
   "metadata": {},
   "outputs": [
    {
     "name": "stdout",
     "output_type": "stream",
     "text": [
      "Name on account: Harry\n",
      "Savings: 702\n",
      "Interest Rate: 0.09\n"
     ]
    }
   ],
   "source": [
    "print_savings_details(name, salary, expenses, interest_rate)"
   ]
  },
  {
   "cell_type": "code",
   "execution_count": 6,
   "metadata": {},
   "outputs": [
    {
     "data": {
      "text/plain": [
       "('James', 1000, 200, 0.04)"
      ]
     },
     "execution_count": 6,
     "metadata": {},
     "output_type": "execute_result"
    }
   ],
   "source": [
    "# global variables are not affected by local variables\n",
    "name, salary, expenses, interest_rate"
   ]
  },
  {
   "cell_type": "code",
   "execution_count": 7,
   "metadata": {},
   "outputs": [],
   "source": [
    "fruits_list = ['Apple', 'Grapes', 'Mango', 'Bananas']"
   ]
  },
  {
   "cell_type": "code",
   "execution_count": 8,
   "metadata": {},
   "outputs": [
    {
     "name": "stdout",
     "output_type": "stream",
     "text": [
      "Inside the function: ['Kiwi', 'Strawberry']\n",
      "\n",
      "Outside the function: ['Apple', 'Grapes', 'Mango', 'Bananas']\n"
     ]
    }
   ],
   "source": [
    "# passing a new list inside a function does not change the global list\n",
    "# the same can be said for dictionaries, tuples and other complex\n",
    "# data types\n",
    "def change_list(fruits_list):\n",
    "    fruits_list = ['Kiwi', 'Strawberry']\n",
    "\n",
    "    print('Inside the function:', fruits_list)\n",
    "\n",
    "change_list(fruits_list)\n",
    "print()\n",
    "print('Outside the function:', fruits_list)"
   ]
  },
  {
   "cell_type": "code",
   "execution_count": 9,
   "metadata": {},
   "outputs": [],
   "source": [
    "fruits_list = [\"Apple\", \"Grapes\"]"
   ]
  },
  {
   "cell_type": "code",
   "execution_count": 10,
   "metadata": {},
   "outputs": [
    {
     "name": "stdout",
     "output_type": "stream",
     "text": [
      "Inside the function: ['Kiwi', 'Strawberry']\n"
     ]
    }
   ],
   "source": [
    "change_list(fruits_list)"
   ]
  },
  {
   "cell_type": "code",
   "execution_count": 11,
   "metadata": {},
   "outputs": [
    {
     "data": {
      "text/plain": [
       "['Apple', 'Grapes']"
      ]
     },
     "execution_count": 11,
     "metadata": {},
     "output_type": "execute_result"
    }
   ],
   "source": [
    "fruits_list"
   ]
  },
  {
   "cell_type": "code",
   "execution_count": null,
   "metadata": {},
   "outputs": [],
   "source": []
  }
 ],
 "metadata": {
  "kernelspec": {
   "display_name": "Python 3",
   "language": "python",
   "name": "python3"
  },
  "language_info": {
   "codemirror_mode": {
    "name": "ipython",
    "version": 3
   },
   "file_extension": ".py",
   "mimetype": "text/x-python",
   "name": "python",
   "nbconvert_exporter": "python",
   "pygments_lexer": "ipython3",
   "version": "3.11.2"
  },
  "orig_nbformat": 4,
  "vscode": {
   "interpreter": {
    "hash": "916dbcbb3f70747c44a77c7bcd40155683ae19c65e1c03b4aa3499c5328201f1"
   }
  }
 },
 "nbformat": 4,
 "nbformat_minor": 2
}
