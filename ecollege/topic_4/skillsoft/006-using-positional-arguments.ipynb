{
 "cells": [
  {
   "cell_type": "code",
   "execution_count": 2,
   "metadata": {},
   "outputs": [],
   "source": [
    "def print_many_times(string, times):\n",
    "\n",
    "    for i in range(times):\n",
    "        print(string)"
   ]
  },
  {
   "cell_type": "code",
   "execution_count": 3,
   "metadata": {},
   "outputs": [
    {
     "name": "stdout",
     "output_type": "stream",
     "text": [
      "skillsoft\n",
      "skillsoft\n",
      "skillsoft\n",
      "skillsoft\n",
      "skillsoft\n"
     ]
    }
   ],
   "source": [
    "print_many_times('skillsoft', 5)"
   ]
  },
  {
   "cell_type": "code",
   "execution_count": 4,
   "metadata": {},
   "outputs": [],
   "source": [
    "def print_many_times_with_doc(string, times):\n",
    "\n",
    "    \"\"\"\n",
    "        Prints the specified string the specified number of times\n",
    "\n",
    "        The first arg is the string you want printed\n",
    "        The second arg is the amount of times to print the string arg\n",
    "\n",
    "        Parameters (both required):\n",
    "        string(str): The string to be printed\n",
    "        times(int): The number of times to print the string\n",
    "\n",
    "        Returns:\n",
    "        No Return value \n",
    "    \"\"\"\n",
    "\n",
    "    for i in range(times):\n",
    "        print(string)"
   ]
  },
  {
   "cell_type": "code",
   "execution_count": 6,
   "metadata": {},
   "outputs": [
    {
     "name": "stdout",
     "output_type": "stream",
     "text": [
      "\n",
      "        Prints the specified string the specified number of times\n",
      "\n",
      "        The first arg is the string you want printed\n",
      "        The second arg is the amount of times to print the string arg\n",
      "\n",
      "        Parameters (both required):\n",
      "        string (str): The string to be printed\n",
      "        times (int): The number of times to print the string\n",
      "\n",
      "        Returns:\n",
      "        No Return value \n",
      "    \n"
     ]
    }
   ],
   "source": [
    "print(print_many_times_with_doc.__doc__)"
   ]
  },
  {
   "cell_type": "code",
   "execution_count": 7,
   "metadata": {},
   "outputs": [],
   "source": [
    "def print_higher_number(a, b):\n",
    "\n",
    "    if a > b:\n",
    "        print('A is greater than B')\n",
    "    else:\n",
    "        print('B is greater than A')"
   ]
  },
  {
   "cell_type": "code",
   "execution_count": 8,
   "metadata": {},
   "outputs": [
    {
     "name": "stdout",
     "output_type": "stream",
     "text": [
      "B is greater than A\n"
     ]
    }
   ],
   "source": [
    "print_higher_number(8, 24)"
   ]
  },
  {
   "cell_type": "code",
   "execution_count": 9,
   "metadata": {},
   "outputs": [
    {
     "name": "stdout",
     "output_type": "stream",
     "text": [
      "A is greater than B\n"
     ]
    }
   ],
   "source": [
    "print_higher_number(20, 10)"
   ]
  },
  {
   "cell_type": "code",
   "execution_count": 10,
   "metadata": {},
   "outputs": [],
   "source": [
    "def print_higher_number_with_error(a, b):\n",
    "\n",
    "    if a > b:\n",
    "        print('A is greater than B')\n",
    "    else:\n",
    "        print('B is greater than A')\n",
    "\n",
    "        result = b + \"a\""
   ]
  },
  {
   "cell_type": "code",
   "execution_count": 13,
   "metadata": {},
   "outputs": [
    {
     "name": "stdout",
     "output_type": "stream",
     "text": [
      "B is greater than A\n"
     ]
    },
    {
     "ename": "TypeError",
     "evalue": "unsupported operand type(s) for +: 'int' and 'str'",
     "output_type": "error",
     "traceback": [
      "\u001b[0;31m---------------------------------------------------------------------------\u001b[0m",
      "\u001b[0;31mTypeError\u001b[0m                                 Traceback (most recent call last)",
      "Cell \u001b[0;32mIn [13], line 1\u001b[0m\n\u001b[0;32m----> 1\u001b[0m print_higher_number_with_error(\u001b[39m10\u001b[39;49m, \u001b[39m20\u001b[39;49m)\n",
      "Cell \u001b[0;32mIn [10], line 8\u001b[0m, in \u001b[0;36mprint_higher_number_with_error\u001b[0;34m(a, b)\u001b[0m\n\u001b[1;32m      5\u001b[0m \u001b[39melse\u001b[39;00m:\n\u001b[1;32m      6\u001b[0m     \u001b[39mprint\u001b[39m(\u001b[39m'\u001b[39m\u001b[39mB is greater than A\u001b[39m\u001b[39m'\u001b[39m)\n\u001b[0;32m----> 8\u001b[0m     result \u001b[39m=\u001b[39m b \u001b[39m+\u001b[39;49m \u001b[39m\"\u001b[39;49m\u001b[39ma\u001b[39;49m\u001b[39m\"\u001b[39;49m\n",
      "\u001b[0;31mTypeError\u001b[0m: unsupported operand type(s) for +: 'int' and 'str'"
     ]
    }
   ],
   "source": [
    "print_higher_number_with_error(10, 20)"
   ]
  },
  {
   "cell_type": "code",
   "execution_count": 14,
   "metadata": {},
   "outputs": [],
   "source": [
    "def multiply(num_1, num_2, num_3):\n",
    "    print('Multiplication result:', num_1 * num_2 * num_3)"
   ]
  },
  {
   "cell_type": "code",
   "execution_count": 15,
   "metadata": {},
   "outputs": [
    {
     "name": "stdout",
     "output_type": "stream",
     "text": [
      "Multiplication result: 250\n"
     ]
    }
   ],
   "source": [
    "multiply(5, 5, 10)"
   ]
  },
  {
   "cell_type": "code",
   "execution_count": 16,
   "metadata": {},
   "outputs": [],
   "source": [
    "# Input args can be of any data type\n",
    "# Primitive, complex, custom data types\n",
    "def length(some_list):\n",
    "\n",
    "    count = 0\n",
    "    for element in some_list:\n",
    "        count += 1\n",
    "\n",
    "    print(\"The length of the list is\", count)"
   ]
  },
  {
   "cell_type": "code",
   "execution_count": 17,
   "metadata": {},
   "outputs": [
    {
     "name": "stdout",
     "output_type": "stream",
     "text": [
      "The length of the list is 10\n"
     ]
    }
   ],
   "source": [
    "# calling the length func with a list works will lists of any data type\n",
    "num_list = [2, 4, 6, 8, 10, 12, 14, 16, 18, 20]\n",
    "length(num_list)"
   ]
  },
  {
   "cell_type": "code",
   "execution_count": 18,
   "metadata": {},
   "outputs": [
    {
     "name": "stdout",
     "output_type": "stream",
     "text": [
      "The length of the list is 3\n"
     ]
    }
   ],
   "source": [
    "# you can also make a list on the fly\n",
    "length([2.5, 5.5, 7.5])"
   ]
  }
 ],
 "metadata": {
  "kernelspec": {
   "display_name": "Python 3",
   "language": "python",
   "name": "python3"
  },
  "language_info": {
   "codemirror_mode": {
    "name": "ipython",
    "version": 3
   },
   "file_extension": ".py",
   "mimetype": "text/x-python",
   "name": "python",
   "nbconvert_exporter": "python",
   "pygments_lexer": "ipython3",
   "version": "3.11.2"
  },
  "orig_nbformat": 4,
  "vscode": {
   "interpreter": {
    "hash": "916dbcbb3f70747c44a77c7bcd40155683ae19c65e1c03b4aa3499c5328201f1"
   }
  }
 },
 "nbformat": 4,
 "nbformat_minor": 2
}
