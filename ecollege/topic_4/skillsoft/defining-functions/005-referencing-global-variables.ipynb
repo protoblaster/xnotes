{
 "cells": [
  {
   "cell_type": "code",
   "execution_count": 1,
   "metadata": {},
   "outputs": [
    {
     "name": "stdout",
     "output_type": "stream",
     "text": [
      "The Square of 6 is 36\n"
     ]
    }
   ],
   "source": [
    "def square(x):\n",
    "    print('The Square of', x, 'is', x*x)\n",
    "\n",
    "square(6)"
   ]
  },
  {
   "cell_type": "code",
   "execution_count": 2,
   "metadata": {},
   "outputs": [
    {
     "name": "stdout",
     "output_type": "stream",
     "text": [
      "The Square of 10001 is 100020001\n"
     ]
    }
   ],
   "source": [
    "square(10001)"
   ]
  },
  {
   "cell_type": "code",
   "execution_count": 3,
   "metadata": {},
   "outputs": [
    {
     "ename": "TypeError",
     "evalue": "can't multiply sequence by non-int of type 'str'",
     "output_type": "error",
     "traceback": [
      "\u001b[0;31m---------------------------------------------------------------------------\u001b[0m",
      "\u001b[0;31mTypeError\u001b[0m                                 Traceback (most recent call last)",
      "Cell \u001b[0;32mIn [3], line 2\u001b[0m\n\u001b[1;32m      1\u001b[0m \u001b[39m# the square(x) function assumes that input can be multiplied by itself\u001b[39;00m\n\u001b[0;32m----> 2\u001b[0m square(\u001b[39m'\u001b[39;49m\u001b[39mJames\u001b[39;49m\u001b[39m'\u001b[39;49m)\n",
      "Cell \u001b[0;32mIn [1], line 2\u001b[0m, in \u001b[0;36msquare\u001b[0;34m(x)\u001b[0m\n\u001b[1;32m      1\u001b[0m \u001b[39mdef\u001b[39;00m \u001b[39msquare\u001b[39m(x):\n\u001b[0;32m----> 2\u001b[0m     \u001b[39mprint\u001b[39m(\u001b[39m'\u001b[39m\u001b[39mThe Square of\u001b[39m\u001b[39m'\u001b[39m, x, \u001b[39m'\u001b[39m\u001b[39mis\u001b[39m\u001b[39m'\u001b[39m, x\u001b[39m*\u001b[39;49mx)\n",
      "\u001b[0;31mTypeError\u001b[0m: can't multiply sequence by non-int of type 'str'"
     ]
    }
   ],
   "source": [
    "# the square(x) function assumes that input can be multiplied by itself\n",
    "square('James')"
   ]
  },
  {
   "cell_type": "code",
   "execution_count": 4,
   "metadata": {},
   "outputs": [
    {
     "name": "stdout",
     "output_type": "stream",
     "text": [
      "The Square of 25 is 625\n"
     ]
    }
   ],
   "source": [
    "# variables can also be used in place of specifying numbers when calling\n",
    "# the function\n",
    "num = 25\n",
    "square(num)"
   ]
  },
  {
   "cell_type": "code",
   "execution_count": 5,
   "metadata": {},
   "outputs": [
    {
     "name": "stdout",
     "output_type": "stream",
     "text": [
      "The Square of 25 is 625\n",
      "The Square of 100 is 10000\n"
     ]
    }
   ],
   "source": [
    "another_num = 100\n",
    "square(num)\n",
    "square(another_num)"
   ]
  },
  {
   "cell_type": "code",
   "execution_count": 7,
   "metadata": {},
   "outputs": [],
   "source": [
    "salary = 1000\n",
    "expense = 300\n",
    "\n",
    "def my_savings(a, b):\n",
    "    print(\"My total savings:\", salary - expense)"
   ]
  },
  {
   "cell_type": "code",
   "execution_count": 8,
   "metadata": {},
   "outputs": [
    {
     "name": "stdout",
     "output_type": "stream",
     "text": [
      "My total savings: 700\n"
     ]
    }
   ],
   "source": [
    "# 1000 will be assigned to argument a\n",
    "# 300 will be assigned to argument b\n",
    "my_savings(1000, 300)"
   ]
  },
  {
   "cell_type": "code",
   "execution_count": 10,
   "metadata": {},
   "outputs": [
    {
     "name": "stdout",
     "output_type": "stream",
     "text": [
      "My total savings: 700\n"
     ]
    }
   ],
   "source": [
    "# if we were to invoke the my_savings function with 1200 and 400\n",
    "# we would expect my_savings() to return 800, but it will return 700\n",
    "\n",
    "# you want my_savings() to use a, b and not global variables\n",
    "my_savings(1200, 400)"
   ]
  },
  {
   "cell_type": "code",
   "execution_count": 11,
   "metadata": {},
   "outputs": [
    {
     "name": "stdout",
     "output_type": "stream",
     "text": [
      "My actual savings: 800\n"
     ]
    }
   ],
   "source": [
    "def my_actual_savings(a, b):\n",
    "    print(\"My actual savings:\", a - b)\n",
    "\n",
    "my_actual_savings(1200, 400)"
   ]
  },
  {
   "cell_type": "code",
   "execution_count": 12,
   "metadata": {},
   "outputs": [],
   "source": [
    "# variable names for input args should be meaningful\n",
    "# this improves the understanding of your code\n",
    "\n",
    "# if you use the input args with the same names as global variables\n",
    "# the global variables are not used in the function\n",
    "\n",
    "salary = 2000\n",
    "expenses = 700\n",
    "\n",
    "def calculate_savings(salary, expenses):\n",
    "    print(\"My savings are:\", salary - expenses)"
   ]
  },
  {
   "cell_type": "code",
   "execution_count": 13,
   "metadata": {},
   "outputs": [
    {
     "ename": "TypeError",
     "evalue": "calculate_savings() missing 2 required positional arguments: 'salary' and 'expenses'",
     "output_type": "error",
     "traceback": [
      "\u001b[0;31m---------------------------------------------------------------------------\u001b[0m",
      "\u001b[0;31mTypeError\u001b[0m                                 Traceback (most recent call last)",
      "Cell \u001b[0;32mIn [13], line 1\u001b[0m\n\u001b[0;32m----> 1\u001b[0m calculate_savings()\n",
      "\u001b[0;31mTypeError\u001b[0m: calculate_savings() missing 2 required positional arguments: 'salary' and 'expenses'"
     ]
    }
   ],
   "source": [
    "calculate_savings()"
   ]
  },
  {
   "cell_type": "code",
   "execution_count": 15,
   "metadata": {},
   "outputs": [
    {
     "name": "stdout",
     "output_type": "stream",
     "text": [
      "My savings are: 1300\n"
     ]
    }
   ],
   "source": [
    "calculate_savings(2000, 700)"
   ]
  },
  {
   "cell_type": "code",
   "execution_count": 16,
   "metadata": {},
   "outputs": [
    {
     "name": "stdout",
     "output_type": "stream",
     "text": [
      "My savings are: 1300\n"
     ]
    }
   ],
   "source": [
    "# in this method we are using the global variables in the\n",
    "# calculate_savings function\n",
    "calculate_savings(salary, expenses)"
   ]
  },
  {
   "cell_type": "code",
   "execution_count": 17,
   "metadata": {},
   "outputs": [
    {
     "name": "stdout",
     "output_type": "stream",
     "text": [
      "My savings are: 2000\n"
     ]
    }
   ],
   "source": [
    "calculate_savings(3000, 1000)"
   ]
  },
  {
   "cell_type": "code",
   "execution_count": 19,
   "metadata": {},
   "outputs": [
    {
     "name": "stdout",
     "output_type": "stream",
     "text": [
      "My savings are: 1500\n"
     ]
    }
   ],
   "source": [
    "# using the function calculate_savings() with global variables\n",
    "total_salary = 4000\n",
    "total_expenses = 2500\n",
    "\n",
    "calculate_savings(total_salary, total_expenses)"
   ]
  }
 ],
 "metadata": {
  "kernelspec": {
   "display_name": "Python 3",
   "language": "python",
   "name": "python3"
  },
  "language_info": {
   "codemirror_mode": {
    "name": "ipython",
    "version": 3
   },
   "file_extension": ".py",
   "mimetype": "text/x-python",
   "name": "python",
   "nbconvert_exporter": "python",
   "pygments_lexer": "ipython3",
   "version": "3.11.2"
  },
  "orig_nbformat": 4,
  "vscode": {
   "interpreter": {
    "hash": "916dbcbb3f70747c44a77c7bcd40155683ae19c65e1c03b4aa3499c5328201f1"
   }
  }
 },
 "nbformat": 4,
 "nbformat_minor": 2
}
