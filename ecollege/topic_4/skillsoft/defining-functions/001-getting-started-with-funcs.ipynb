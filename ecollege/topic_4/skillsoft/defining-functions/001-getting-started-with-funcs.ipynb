{
 "cells": [
  {
   "cell_type": "code",
   "execution_count": 1,
   "metadata": {},
   "outputs": [
    {
     "name": "stdout",
     "output_type": "stream",
     "text": [
      "My name is John\n",
      "I live in boston\n",
      "I am a data analyst and I love what I do\n"
     ]
    }
   ],
   "source": [
    "print('My name is John')\n",
    "print('I live in boston')\n",
    "print('I am a data analyst and I love what I do')"
   ]
  },
  {
   "cell_type": "code",
   "execution_count": 2,
   "metadata": {},
   "outputs": [],
   "source": [
    "# to create a function\n",
    "def my_introduction():\n",
    "    print('My name is John')\n",
    "    print('I live in boston')\n",
    "    print('I am a data analyst and I love what I do')"
   ]
  },
  {
   "cell_type": "code",
   "execution_count": 3,
   "metadata": {},
   "outputs": [
    {
     "name": "stdout",
     "output_type": "stream",
     "text": [
      "My name is John\n",
      "I live in boston\n",
      "I am a data analyst and I love what I do\n"
     ]
    }
   ],
   "source": [
    "# to call a function\n",
    "my_introduction()"
   ]
  },
  {
   "cell_type": "code",
   "execution_count": 4,
   "metadata": {},
   "outputs": [
    {
     "name": "stdout",
     "output_type": "stream",
     "text": [
      "This is outside the function\n",
      "Welcome to Python!\n",
      "This is outside the function also\n"
     ]
    }
   ],
   "source": [
    "# code within the function will not be executed until it is invoked\n",
    "def hello_world():\n",
    "    print('Welcome to Python!')\n",
    "\n",
    "print('This is outside the function')\n",
    "hello_world()\n",
    "print('This is outside the function also')"
   ]
  },
  {
   "cell_type": "code",
   "execution_count": 5,
   "metadata": {},
   "outputs": [
    {
     "ename": "NameError",
     "evalue": "name 'my_new_function' is not defined",
     "output_type": "error",
     "traceback": [
      "\u001b[0;31m---------------------------------------------------------------------------\u001b[0m",
      "\u001b[0;31mNameError\u001b[0m                                 Traceback (most recent call last)",
      "Cell \u001b[0;32mIn [5], line 2\u001b[0m\n\u001b[1;32m      1\u001b[0m \u001b[39m# custom functions need to be defined before they are invoked\u001b[39;00m\n\u001b[0;32m----> 2\u001b[0m my_new_function()\n",
      "\u001b[0;31mNameError\u001b[0m: name 'my_new_function' is not defined"
     ]
    }
   ],
   "source": [
    "# custom functions need to be defined before they are invoked\n",
    "my_new_function()"
   ]
  },
  {
   "cell_type": "code",
   "execution_count": 6,
   "metadata": {},
   "outputs": [
    {
     "name": "stdout",
     "output_type": "stream",
     "text": [
      "This is now defined\n"
     ]
    }
   ],
   "source": [
    "def my_new_function():\n",
    "    print('This is now defined')\n",
    "\n",
    "my_new_function()"
   ]
  }
 ],
 "metadata": {
  "kernelspec": {
   "display_name": "Python 3",
   "language": "python",
   "name": "python3"
  },
  "language_info": {
   "codemirror_mode": {
    "name": "ipython",
    "version": 3
   },
   "file_extension": ".py",
   "mimetype": "text/x-python",
   "name": "python",
   "nbconvert_exporter": "python",
   "pygments_lexer": "ipython3",
   "version": "3.11.2"
  },
  "orig_nbformat": 4,
  "vscode": {
   "interpreter": {
    "hash": "916dbcbb3f70747c44a77c7bcd40155683ae19c65e1c03b4aa3499c5328201f1"
   }
  }
 },
 "nbformat": 4,
 "nbformat_minor": 2
}
